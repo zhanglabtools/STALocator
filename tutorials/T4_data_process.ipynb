{
 "cells": [
  {
   "cell_type": "markdown",
   "metadata": {},
   "source": [
    "# Tutorial 4: Data process"
   ]
  },
  {
   "cell_type": "markdown",
   "metadata": {},
   "source": [
    "We downloaded the RDS file of mouse hippocampus scRNA-seq dataset from [Dropbox](https://www.dropbox.com/s/cs6pii5my4p3ke3/mouse_hippocampus_reference.rds)."
   ]
  },
  {
   "cell_type": "code",
   "execution_count": null,
   "metadata": {},
   "outputs": [],
   "source": [
    "library(Seurat)\n",
    "library(SeuratData)\n",
    "library(Matrix)\n",
    "library(stringr)"
   ]
  },
  {
   "cell_type": "markdown",
   "metadata": {},
   "source": [
    " We first read this file and processed it for subsequent analysis. "
   ]
  },
  {
   "cell_type": "code",
   "execution_count": null,
   "metadata": {},
   "outputs": [],
   "source": [
    "# Read scRNA-seq dataset\n",
    "sc_data_path=\"../data/T4_sc/\"\n",
    "\n",
    "# Read expression data with cell type labels as seurat object saved on RDS file\n",
    "data=readRDS(paste0(sc_data_path,\"mouse_hippocampus_reference.rds\"))\n",
    "data$class=str_to_title(data$class)"
   ]
  },
  {
   "cell_type": "code",
   "execution_count": null,
   "metadata": {},
   "outputs": [],
   "source": [
    "table(data$celltype)"
   ]
  },
  {
   "cell_type": "code",
   "execution_count": null,
   "metadata": {},
   "outputs": [],
   "source": [
    "colnames(data@meta.data)"
   ]
  },
  {
   "cell_type": "code",
   "execution_count": null,
   "metadata": {},
   "outputs": [],
   "source": [
    "# Expression data, barcodes, genes and meta data were stored respectively.\n",
    "writeMM(t(data@assays$RNA@counts), file = paste0(sc_data_path,\"matrix.mtx\"))\n",
    "write.table(rownames(data@assays$RNA@counts), file = paste0(sc_data_path,\"genes.tsv\"), row.names = F, col.names = F, quote = F)\n",
    "write.table(colnames(data@assays$RNA@counts), file = paste0(sc_data_path,\"barcodes.tsv\"), row.names = F, col.names = F, quote = F)\n",
    "write.csv(data@meta.data[,c(1,2,3,4,5,9,10)], file = paste0(sc_data_path,\"meta.csv\"))"
   ]
  }
 ],
 "metadata": {
  "kernelspec": {
   "display_name": "R",
   "language": "R",
   "name": "ir"
  },
  "language_info": {
   "codemirror_mode": "r",
   "file_extension": ".r",
   "mimetype": "text/x-r-source",
   "name": "R",
   "pygments_lexer": "r",
   "version": "4.2.1"
  }
 },
 "nbformat": 4,
 "nbformat_minor": 2
}
