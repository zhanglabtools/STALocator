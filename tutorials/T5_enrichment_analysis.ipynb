{
 "cells": [
  {
   "cell_type": "markdown",
   "metadata": {},
   "source": [
    "# Tutorial 5: Enrichment analysis"
   ]
  },
  {
   "cell_type": "markdown",
   "metadata": {},
   "source": [
    "We performed Gene Ontology (GO) analysis on identified spatially variable genes (SVGs) of raw and enhanced mouse hippocampus Slide-seq dataset."
   ]
  },
  {
   "cell_type": "code",
   "execution_count": 1,
   "metadata": {
    "scrolled": true
   },
   "outputs": [
    {
     "name": "stderr",
     "output_type": "stream",
     "text": [
      "\n",
      "\n",
      "clusterProfiler v4.6.0  For help: https://yulab-smu.top/biomedical-knowledge-mining-book/\n",
      "\n",
      "If you use clusterProfiler in published research, please cite:\n",
      "T Wu, E Hu, S Xu, M Chen, P Guo, Z Dai, T Feng, L Zhou, W Tang, L Zhan, X Fu, S Liu, X Bo, and G Yu. clusterProfiler 4.0: A universal enrichment tool for interpreting omics data. The Innovation. 2021, 2(3):100141\n",
      "\n",
      "\n",
      "Attaching package: 'clusterProfiler'\n",
      "\n",
      "\n",
      "The following object is masked from 'package:stats':\n",
      "\n",
      "    filter\n",
      "\n",
      "\n",
      "Loading required package: AnnotationDbi\n",
      "\n",
      "Loading required package: stats4\n",
      "\n",
      "Loading required package: BiocGenerics\n",
      "\n",
      "\n",
      "Attaching package: 'BiocGenerics'\n",
      "\n",
      "\n",
      "The following objects are masked from 'package:stats':\n",
      "\n",
      "    IQR, mad, sd, var, xtabs\n",
      "\n",
      "\n",
      "The following objects are masked from 'package:base':\n",
      "\n",
      "    anyDuplicated, aperm, append, as.data.frame, basename, cbind,\n",
      "    colnames, dirname, do.call, duplicated, eval, evalq, Filter, Find,\n",
      "    get, grep, grepl, intersect, is.unsorted, lapply, Map, mapply,\n",
      "    match, mget, order, paste, pmax, pmax.int, pmin, pmin.int,\n",
      "    Position, rank, rbind, Reduce, rownames, sapply, setdiff, sort,\n",
      "    table, tapply, union, unique, unsplit, which.max, which.min\n",
      "\n",
      "\n",
      "Loading required package: Biobase\n",
      "\n",
      "Welcome to Bioconductor\n",
      "\n",
      "    Vignettes contain introductory material; view with\n",
      "    'browseVignettes()'. To cite Bioconductor, see\n",
      "    'citation(\"Biobase\")', and for packages 'citation(\"pkgname\")'.\n",
      "\n",
      "\n",
      "Loading required package: IRanges\n",
      "\n",
      "Loading required package: S4Vectors\n",
      "\n",
      "\n",
      "Attaching package: 'S4Vectors'\n",
      "\n",
      "\n",
      "The following object is masked from 'package:clusterProfiler':\n",
      "\n",
      "    rename\n",
      "\n",
      "\n",
      "The following objects are masked from 'package:base':\n",
      "\n",
      "    expand.grid, I, unname\n",
      "\n",
      "\n",
      "\n",
      "Attaching package: 'IRanges'\n",
      "\n",
      "\n",
      "The following object is masked from 'package:clusterProfiler':\n",
      "\n",
      "    slice\n",
      "\n",
      "\n",
      "The following object is masked from 'package:grDevices':\n",
      "\n",
      "    windows\n",
      "\n",
      "\n",
      "\n",
      "Attaching package: 'AnnotationDbi'\n",
      "\n",
      "\n",
      "The following object is masked from 'package:clusterProfiler':\n",
      "\n",
      "    select\n",
      "\n",
      "\n",
      "\n",
      "\n"
     ]
    }
   ],
   "source": [
    "library(clusterProfiler)\n",
    "library(org.Mm.eg.db)\n",
    "library(AnnotationDbi)\n",
    "library(enrichplot)\n",
    "library(stringr)\n",
    "library(ggplot2)"
   ]
  },
  {
   "cell_type": "code",
   "execution_count": 2,
   "metadata": {},
   "outputs": [
    {
     "data": {
      "text/html": [
       "<style>\n",
       ".list-inline {list-style: none; margin:0; padding: 0}\n",
       ".list-inline>li {display: inline-block}\n",
       ".list-inline>li:not(:last-child)::after {content: \"\\00b7\"; padding: 0 .5ex}\n",
       "</style>\n",
       "<ol class=list-inline><li>'ACCNUM'</li><li>'ALIAS'</li><li>'ENSEMBL'</li><li>'ENSEMBLPROT'</li><li>'ENSEMBLTRANS'</li><li>'ENTREZID'</li><li>'ENZYME'</li><li>'EVIDENCE'</li><li>'EVIDENCEALL'</li><li>'GENENAME'</li><li>'GENETYPE'</li><li>'GO'</li><li>'GOALL'</li><li>'IPI'</li><li>'MGI'</li><li>'ONTOLOGY'</li><li>'ONTOLOGYALL'</li><li>'PATH'</li><li>'PFAM'</li><li>'PMID'</li><li>'PROSITE'</li><li>'REFSEQ'</li><li>'SYMBOL'</li><li>'UNIPROT'</li></ol>\n"
      ],
      "text/latex": [
       "\\begin{enumerate*}\n",
       "\\item 'ACCNUM'\n",
       "\\item 'ALIAS'\n",
       "\\item 'ENSEMBL'\n",
       "\\item 'ENSEMBLPROT'\n",
       "\\item 'ENSEMBLTRANS'\n",
       "\\item 'ENTREZID'\n",
       "\\item 'ENZYME'\n",
       "\\item 'EVIDENCE'\n",
       "\\item 'EVIDENCEALL'\n",
       "\\item 'GENENAME'\n",
       "\\item 'GENETYPE'\n",
       "\\item 'GO'\n",
       "\\item 'GOALL'\n",
       "\\item 'IPI'\n",
       "\\item 'MGI'\n",
       "\\item 'ONTOLOGY'\n",
       "\\item 'ONTOLOGYALL'\n",
       "\\item 'PATH'\n",
       "\\item 'PFAM'\n",
       "\\item 'PMID'\n",
       "\\item 'PROSITE'\n",
       "\\item 'REFSEQ'\n",
       "\\item 'SYMBOL'\n",
       "\\item 'UNIPROT'\n",
       "\\end{enumerate*}\n"
      ],
      "text/markdown": [
       "1. 'ACCNUM'\n",
       "2. 'ALIAS'\n",
       "3. 'ENSEMBL'\n",
       "4. 'ENSEMBLPROT'\n",
       "5. 'ENSEMBLTRANS'\n",
       "6. 'ENTREZID'\n",
       "7. 'ENZYME'\n",
       "8. 'EVIDENCE'\n",
       "9. 'EVIDENCEALL'\n",
       "10. 'GENENAME'\n",
       "11. 'GENETYPE'\n",
       "12. 'GO'\n",
       "13. 'GOALL'\n",
       "14. 'IPI'\n",
       "15. 'MGI'\n",
       "16. 'ONTOLOGY'\n",
       "17. 'ONTOLOGYALL'\n",
       "18. 'PATH'\n",
       "19. 'PFAM'\n",
       "20. 'PMID'\n",
       "21. 'PROSITE'\n",
       "22. 'REFSEQ'\n",
       "23. 'SYMBOL'\n",
       "24. 'UNIPROT'\n",
       "\n",
       "\n"
      ],
      "text/plain": [
       " [1] \"ACCNUM\"       \"ALIAS\"        \"ENSEMBL\"      \"ENSEMBLPROT\"  \"ENSEMBLTRANS\"\n",
       " [6] \"ENTREZID\"     \"ENZYME\"       \"EVIDENCE\"     \"EVIDENCEALL\"  \"GENENAME\"    \n",
       "[11] \"GENETYPE\"     \"GO\"           \"GOALL\"        \"IPI\"          \"MGI\"         \n",
       "[16] \"ONTOLOGY\"     \"ONTOLOGYALL\"  \"PATH\"         \"PFAM\"         \"PMID\"        \n",
       "[21] \"PROSITE\"      \"REFSEQ\"       \"SYMBOL\"       \"UNIPROT\"     "
      ]
     },
     "metadata": {},
     "output_type": "display_data"
    }
   ],
   "source": [
    "keytypes(org.Mm.eg.db)"
   ]
  },
  {
   "cell_type": "code",
   "execution_count": 3,
   "metadata": {},
   "outputs": [],
   "source": [
    "pair_enrichgo <- function(path1, path2, sig_value=\"pvalue\", sig_threshold=0.05){\n",
    "    DE_raw <- read.csv(path1)\n",
    "    DE_stasite <- read.csv(path2)\n",
    "    DE_raw <- DE_raw[DE_raw$FDR<0.001,]\n",
    "    DE_stasite <- DE_stasite[DE_stasite$FDR<0.001,]\n",
    "    DE_raw_gene <- DE_raw$Gene\n",
    "    DE_stasite_gene <- DE_stasite$Gene\n",
    "    DE_raw_gene <- str_to_title(DE_raw_gene)\n",
    "    DE_stasite_gene <- str_to_title(DE_stasite_gene)\n",
    "    DE_raw_ID <- bitr(DE_raw_gene, fromType = \"SYMBOL\", toType = \"ENTREZID\", OrgDb = org.Mm.eg.db)$ENTREZID\n",
    "    DE_stasite_ID <- bitr(DE_stasite_gene, fromType = \"SYMBOL\", toType = \"ENTREZID\", OrgDb = org.Mm.eg.db)$ENTREZID\n",
    "    enrichment1 <- enrichGO(DE_raw_gene, keyType = \"SYMBOL\", OrgDb = org.Mm.eg.db)\n",
    "    enrichment2 <- enrichGO(DE_stasite_gene, keyType = \"SYMBOL\", OrgDb = org.Mm.eg.db)\n",
    "    results1 <- enrichment1@result[enrichment1@result$pvalue < sig_threshold,c(\"Description\",sig_value,\"Count\")]\n",
    "    results2 <- enrichment2@result[enrichment2@result$pvalue < sig_threshold,c(\"Description\",sig_value,\"Count\")]\n",
    "    results <- list(results1, results2)\n",
    "    return(results)\n",
    "}"
   ]
  },
  {
   "cell_type": "code",
   "execution_count": 4,
   "metadata": {},
   "outputs": [
    {
     "name": "stderr",
     "output_type": "stream",
     "text": [
      "'select()' returned 1:1 mapping between keys and columns\n",
      "\n",
      "Warning message in bitr(DE_raw_gene, fromType = \"SYMBOL\", toType = \"ENTREZID\", OrgDb = org.Mm.eg.db):\n",
      "\"5.22% of input gene IDs are fail to map...\"\n",
      "'select()' returned 1:1 mapping between keys and columns\n",
      "\n",
      "Warning message in bitr(DE_stasite_gene, fromType = \"SYMBOL\", toType = \"ENTREZID\", :\n",
      "\"11.87% of input gene IDs are fail to map...\"\n"
     ]
    }
   ],
   "source": [
    "results_all <- pair_enrichgo(\"T5/results/hotspot_results_raw.csv\", \"T5/results/hotspot_results_staloc.csv\")"
   ]
  },
  {
   "cell_type": "code",
   "execution_count": 5,
   "metadata": {},
   "outputs": [],
   "source": [
    "common_results <- merge(results_all[[1]], results_all[[2]], by=\"Description\")\n",
    "common_results <- common_results[,c(1,2,4)]\n",
    "colnames(common_results)[2:3] <- c(\"Raw\",\"STALOC\")\n",
    "common_results <- common_results[order(common_results$Raw, decreasing=F),]"
   ]
  },
  {
   "cell_type": "code",
   "execution_count": 6,
   "metadata": {
    "scrolled": false
   },
   "outputs": [
    {
     "data": {
      "text/html": [
       "<table class=\"dataframe\">\n",
       "<caption>A data.frame: 6 × 3</caption>\n",
       "<thead>\n",
       "\t<tr><th></th><th scope=col>Description</th><th scope=col>Raw</th><th scope=col>STALOC</th></tr>\n",
       "\t<tr><th></th><th scope=col>&lt;chr&gt;</th><th scope=col>&lt;dbl&gt;</th><th scope=col>&lt;dbl&gt;</th></tr>\n",
       "</thead>\n",
       "<tbody>\n",
       "\t<tr><th scope=row>54</th><td>channel regulator activity                    </td><td>6.252991e-11</td><td>7.055615e-17</td></tr>\n",
       "\t<tr><th scope=row>106</th><td>ion channel regulator activity                </td><td>6.184277e-10</td><td>1.037813e-15</td></tr>\n",
       "\t<tr><th scope=row>40</th><td>calmodulin binding                            </td><td>7.291494e-10</td><td>6.431506e-30</td></tr>\n",
       "\t<tr><th scope=row>74</th><td>G protein-coupled receptor binding            </td><td>2.087139e-08</td><td>1.014745e-05</td></tr>\n",
       "\t<tr><th scope=row>111</th><td>L-glutamate transmembrane transporter activity</td><td>1.043722e-07</td><td>6.054911e-04</td></tr>\n",
       "\t<tr><th scope=row>204</th><td>structural constituent of myelin sheath       </td><td>2.161791e-07</td><td>1.226244e-02</td></tr>\n",
       "</tbody>\n",
       "</table>\n"
      ],
      "text/latex": [
       "A data.frame: 6 × 3\n",
       "\\begin{tabular}{r|lll}\n",
       "  & Description & Raw & STALOC\\\\\n",
       "  & <chr> & <dbl> & <dbl>\\\\\n",
       "\\hline\n",
       "\t54 & channel regulator activity                     & 6.252991e-11 & 7.055615e-17\\\\\n",
       "\t106 & ion channel regulator activity                 & 6.184277e-10 & 1.037813e-15\\\\\n",
       "\t40 & calmodulin binding                             & 7.291494e-10 & 6.431506e-30\\\\\n",
       "\t74 & G protein-coupled receptor binding             & 2.087139e-08 & 1.014745e-05\\\\\n",
       "\t111 & L-glutamate transmembrane transporter activity & 1.043722e-07 & 6.054911e-04\\\\\n",
       "\t204 & structural constituent of myelin sheath        & 2.161791e-07 & 1.226244e-02\\\\\n",
       "\\end{tabular}\n"
      ],
      "text/markdown": [
       "\n",
       "A data.frame: 6 × 3\n",
       "\n",
       "| <!--/--> | Description &lt;chr&gt; | Raw &lt;dbl&gt; | STALOC &lt;dbl&gt; |\n",
       "|---|---|---|---|\n",
       "| 54 | channel regulator activity                     | 6.252991e-11 | 7.055615e-17 |\n",
       "| 106 | ion channel regulator activity                 | 6.184277e-10 | 1.037813e-15 |\n",
       "| 40 | calmodulin binding                             | 7.291494e-10 | 6.431506e-30 |\n",
       "| 74 | G protein-coupled receptor binding             | 2.087139e-08 | 1.014745e-05 |\n",
       "| 111 | L-glutamate transmembrane transporter activity | 1.043722e-07 | 6.054911e-04 |\n",
       "| 204 | structural constituent of myelin sheath        | 2.161791e-07 | 1.226244e-02 |\n",
       "\n"
      ],
      "text/plain": [
       "    Description                                    Raw          STALOC      \n",
       "54  channel regulator activity                     6.252991e-11 7.055615e-17\n",
       "106 ion channel regulator activity                 6.184277e-10 1.037813e-15\n",
       "40  calmodulin binding                             7.291494e-10 6.431506e-30\n",
       "74  G protein-coupled receptor binding             2.087139e-08 1.014745e-05\n",
       "111 L-glutamate transmembrane transporter activity 1.043722e-07 6.054911e-04\n",
       "204 structural constituent of myelin sheath        2.161791e-07 1.226244e-02"
      ]
     },
     "metadata": {},
     "output_type": "display_data"
    }
   ],
   "source": [
    "head(common_results)"
   ]
  },
  {
   "cell_type": "code",
   "execution_count": 7,
   "metadata": {},
   "outputs": [],
   "source": [
    "top_results_svg <- results_all[[2]]\n",
    "top_results_svg <- top_results_svg[-which(top_results_svg$Description %in% results_all[[1]]$Description),]\n",
    "top_results_svg <- top_results_svg[order(top_results_svg$pvalue), ]\n",
    "top_results_svg <- top_results_svg[1:10,]\n",
    "top_results_svg$Description <- factor(top_results_svg$Description, levels = rev(top_results_svg$Description))"
   ]
  },
  {
   "cell_type": "code",
   "execution_count": 8,
   "metadata": {
    "scrolled": false
   },
   "outputs": [
    {
     "name": "stderr",
     "output_type": "stream",
     "text": [
      "Warning message:\n",
      "\"\u001b[1m\u001b[22mThe `size` argument of `element_rect()` is deprecated as of ggplot2 3.4.0.\n",
      "\u001b[36mℹ\u001b[39m Please use the `linewidth` argument instead.\"\n"
     ]
    },
    {
     "data": {
      "image/png": "[encoded data removed]",
      "text/plain": [
       "plot without title"
      ]
     },
     "metadata": {
      "image/png": {
       "height": 240,
       "width": 720
      }
     },
     "output_type": "display_data"
    }
   ],
   "source": [
    "options(repr.plot.width = 12, repr.plot.height = 4)\n",
    "ggplot(top_results_svg, aes(x = -log(pvalue), y = Description)) +\n",
    "    geom_bar(fill = \"#ec7722\", width = .8, position = 'dodge', stat = \"identity\") +\n",
    "    geom_text(aes(label = Description, x = 0), hjust = 0, size = 8) +\n",
    "    scale_x_continuous(breaks = seq(0,200,50))+\n",
    "    theme_bw() +\n",
    "    labs(x=\"\",y=\"\",fill=\"\") + \n",
    "    theme(axis.text.y = element_blank(), \n",
    "          axis.ticks.y = element_blank(),\n",
    "          axis.title.y = element_blank(),\n",
    "          plot.title = element_text(hjust = 0, size = 20),\n",
    "          plot.subtitle = element_text(hjust = 0, size = 20),\n",
    "          axis.text.x = element_text(hjust = 0.5, size = 20, color = \"black\"),\n",
    "          axis.title.x = element_blank(),\n",
    "          axis.ticks.x = element_line(color = \"black\"),\n",
    "          legend.position = c(0.8,0.9),\n",
    "          legend.title = element_text(size = 15),\n",
    "          legend.text  = element_text(size = 15),\n",
    "          legend.key.size = unit(1, \"lines\"),\n",
    "          panel.border = element_rect(color = \"black\", size = 2))"
   ]
  },
  {
   "cell_type": "code",
   "execution_count": null,
   "metadata": {},
   "outputs": [],
   "source": []
  }
 ],
 "metadata": {
  "kernelspec": {
   "display_name": "R",
   "language": "R",
   "name": "ir"
  },
  "language_info": {
   "codemirror_mode": "r",
   "file_extension": ".r",
   "mimetype": "text/x-r-source",
   "name": "R",
   "pygments_lexer": "r",
   "version": "4.2.2"
  }
 },
 "nbformat": 4,
 "nbformat_minor": 2
}
